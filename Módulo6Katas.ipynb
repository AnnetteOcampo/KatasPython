{
  "cells": [
    {
      "cell_type": "markdown",
      "metadata": {},
      "source": [
        "# Ejercicio1: Crear y usar listas de Python\n"
      ]
    },
    {
      "cell_type": "markdown",
      "metadata": {},
      "source": [
        "En primer lugar, crea una variable denominada `planets`. Agrega los ocho planetas (sin Plutón) a la lista. A continuación, muestra el número de planetas."
      ]
    },
    {
      "cell_type": "code",
      "execution_count": 2,
      "metadata": {},
      "outputs": [
        {
          "name": "stdout",
          "output_type": "stream",
          "text": [
            "Hay 8 planetas\n"
          ]
        }
      ],
      "source": [
        "# Creamos la lista planets y la mostramos\n",
        "\n",
        "planetas = ['Mercurio', 'Venus', 'Tierra', 'Marte', 'Jupiter', 'Saturno', 'Urano', 'Neptuno']\n",
        "\n",
        "print('Hay', len(planetas), 'planetas')"
      ]
    },
    {
      "cell_type": "markdown",
      "metadata": {},
      "source": [
        "Agrega a Plutón a la lista que creaste. Luego muestra tanto el número de planetas como el último planeta de la lista."
      ]
    },
    {
      "cell_type": "code",
      "execution_count": 3,
      "metadata": {},
      "outputs": [
        {
          "name": "stdout",
          "output_type": "stream",
          "text": [
            "Pluton es el ultimo planeta\n"
          ]
        }
      ],
      "source": [
        "# Agregamos a plutón y mostramos el último elemento\n",
        "planetas.append('Pluton')\n",
        "\n",
        "print(planetas[-1], 'es el ultimo planeta')"
      ]
    },
    {
      "cell_type": "markdown",
      "metadata": {},
      "source": [
        "## Ejercicio 2: Trabajando con datos de una lista\n",
        "\n",
        "### Usar slices para recuperar partes de una lista"
      ]
    },
    {
      "cell_type": "code",
      "execution_count": 27,
      "metadata": {},
      "outputs": [
        {
          "name": "stdout",
          "output_type": "stream",
          "text": [
            "El primer planeta es Mercurio\n",
            "El segundo planeta es Venus\n",
            "El tercer planeta es Tierra\n",
            "El cuarto planeta es Marte\n",
            "El quinto planeta es Jupiter\n",
            "El sexto planeta es Saturno\n",
            "El septimo planeta es Neptuneo\n"
          ]
        }
      ],
      "source": [
        "# Lista de planetas\n",
        "planetas = ['Mercurio', 'Venus', 'Tierra', 'Marte', 'Jupiter', 'Saturno', 'Neptuneo']\n",
        "cercanos = 'Mercurio', 'Venus'\n",
        "lejanos= 'Saturno', 'Jupiter'\n",
        "print('El primer planeta es', planetas [0])\n",
        "print('El segundo planeta es', planetas [1])\n",
        "print('El tercer planeta es', planetas [2])\n",
        "print('El cuarto planeta es', planetas [3])\n",
        "print('El quinto planeta es', planetas [4])\n",
        "print('El sexto planeta es', planetas [5])\n",
        "print('El septimo planeta es', planetas [6])"
      ]
    },
    {
      "cell_type": "code",
      "execution_count": 13,
      "metadata": {},
      "outputs": [
        {
          "name": "stdout",
          "output_type": "stream",
          "text": [
            "El planeta Marte si se encuentra en el sistema solar.\n"
          ]
        }
      ],
      "source": [
        "# Solicitamos el nombre de un planeta *Pista:  input()*\n",
        "planeta = input(\"Escribe el nombre de un planeta del sistema solar\")\n",
        "if planeta in planetas: \n",
        "    print(f'El planeta {planeta} si se encuentra en el sistema solar.')\n",
        "else:\n",
        "    print(f'El planeta {planeta} no se encuentra en el sistema solar.')"
      ]
    },
    {
      "cell_type": "code",
      "execution_count": 16,
      "metadata": {},
      "outputs": [
        {
          "name": "stdout",
          "output_type": "stream",
          "text": [
            "Jupiter es el 5 planeta del sistema solar\n"
          ]
        }
      ],
      "source": [
        "# Busca el planeta en la lista\n",
        "jupiter_index = planetas.index('Jupiter')\n",
        "print('Jupiter es el', jupiter_index + 1, 'planeta del sistema solar')"
      ]
    },
    {
      "cell_type": "code",
      "execution_count": 29,
      "metadata": {},
      "outputs": [
        {
          "name": "stdout",
          "output_type": "stream",
          "text": [
            "Here are the planets closer than ('Mercurio', 'Venus')\n",
            "['Mercurio', 'Venus', 'Tierra', 'Marte']\n"
          ]
        }
      ],
      "source": [
        "# Muestra los planetas más cercanos al sol\n",
        "\n",
        "\n",
        "print('Here are the planets closer than ' + str(cercanos) )\n",
        "print(planetas[0:-3] )"
      ]
    },
    {
      "cell_type": "code",
      "execution_count": 31,
      "metadata": {},
      "outputs": [
        {
          "name": "stdout",
          "output_type": "stream",
          "text": [
            "Here are the planets further than ('Saturno', 'Jupiter')\n"
          ]
        }
      ],
      "source": [
        "# Muestra los planetas más lejanos al sol\n",
        "\n",
        "print('Here are the planets further than ' + str(lejanos))\n"
      ]
    }
  ],
  "metadata": {
    "interpreter": {
      "hash": "b8bdd4e700647ba2b08c59e5df8b7da1dcf50a218bcd4c1bcd9b3dc92e8788e5"
    },
    "kernelspec": {
      "display_name": "Python 3.9.1 64-bit",
      "name": "python3"
    },
    "language_info": {
      "codemirror_mode": {
        "name": "ipython",
        "version": 3
      },
      "file_extension": ".py",
      "mimetype": "text/x-python",
      "name": "python",
      "nbconvert_exporter": "python",
      "pygments_lexer": "ipython3",
      "version": "3.10.2"
    },
    "nteract": {
      "version": "nteract-front-end@1.0.0"
    }
  },
  "nbformat": 4,
  "nbformat_minor": 4
}
